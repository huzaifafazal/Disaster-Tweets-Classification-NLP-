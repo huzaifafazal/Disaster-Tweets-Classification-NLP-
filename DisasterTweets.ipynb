{
 "cells": [
  {
   "cell_type": "markdown",
   "metadata": {
    "id": "swn7Mc9vQHqo"
   },
   "source": [
    "I did not find the gold labels for the test set, so the only way to check your performance on the test set is to make a submission on the [Kaggle website](https://www.kaggle.com/c/nlp-getting-started/submit). \n",
    "I made a function to create a submission file from a prediction vector, *download_predictions_to_file()*, feel free to use it. Alternatively, you can just check your performance on a subset of the training set. "
   ]
  },
  {
   "cell_type": "code",
   "execution_count": 1,
   "metadata": {
    "id": "490C2OoPs4PX"
   },
   "outputs": [],
   "source": [
    "import numpy as np\n",
    "import pandas as pd \n",
    "import seaborn as sns\n",
    "\n",
    "\n",
    "data_url = 'https://www.math.unipd.it/~dasan/disaster/'\n",
    "train_csv = pd.read_csv(data_url + 'train.csv', sep=\",\") \n",
    "test_csv = pd.read_csv(data_url + 'test.csv', sep=\",\") \n"
   ]
  },
  {
   "cell_type": "code",
   "execution_count": 3,
   "metadata": {
    "id": "CPzMfoAKxhxQ"
   },
   "outputs": [],
   "source": [
    "def download_predictions_to_file(id_array, predictions_array):\n",
    "  # This function, given a numpy array with the ids of the test tweets and a numpy array with the corresponding predictions, \n",
    "  # creates and let's you download a prediction file suitable to be uploaded to the Kaggle website\n",
    "\n",
    "  id_array = id_array.reshape(len(id_array),1) # making sure the arrays are of the size requested by hstack(), i.e. (x,1) instead of (x,) \n",
    "  predictions_array = predictions_array.reshape(len(predictions_array),1)\n",
    "\n",
    "  from google.colab import files\n",
    "  result = pd.DataFrame(np.hstack((id_array, predictions_array)), columns=['id','target'])\n",
    "  result.to_csv('prediction_file.csv', index=False)\n",
    "  files.download('prediction_file.csv')\n"
   ]
  },
  {
   "cell_type": "code",
   "execution_count": 6,
   "metadata": {
    "colab": {
     "base_uri": "https://localhost:8080/"
    },
    "id": "ncvoxHehGLCR",
    "outputId": "0216e696-6910-428f-cc8b-4f10a4058b34"
   },
   "outputs": [
    {
     "name": "stdout",
     "output_type": "stream",
     "text": [
      "   id keyword location                                               text  \\\n",
      "0   1     NaN      NaN  Our Deeds are the Reason of this #earthquake M...   \n",
      "1   4     NaN      NaN             Forest fire near La Ronge Sask. Canada   \n",
      "2   5     NaN      NaN  All residents asked to 'shelter in place' are ...   \n",
      "3   6     NaN      NaN  13,000 people receive #wildfires evacuation or...   \n",
      "4   7     NaN      NaN  Just got sent this photo from Ruby #Alaska as ...   \n",
      "\n",
      "   target  \n",
      "0       1  \n",
      "1       1  \n",
      "2       1  \n",
      "3       1  \n",
      "4       1  \n",
      "[nan nan\n",
      " 'Our Deeds are the Reason of this #earthquake May ALLAH Forgive us all']\n",
      "(7613,) (3263,) (7613, 3)\n"
     ]
    }
   ],
   "source": [
    "#let's take a look at the data\n",
    "print(train_csv.head())\n",
    "#print(train_csv.tail())\n",
    "Y_train = train_csv[\"target\"].values \n",
    "X_train = train_csv.values[:, 1:4] # extracting the columns keyword, location and text\n",
    "\n",
    "#let's print one example to check we picked the right columns\n",
    "print(X_train[0])\n",
    "\n",
    "X_test_id = test_csv[\"id\"].values # these are needed to build output prediction files if you want to submit your predictions to the Kaggle website (see format of the submission)\n",
    "\n",
    "print(Y_train.shape, X_test_id.shape, X_train.shape)\n",
    "\n",
    "# create a dummy pessimistic predictor that always says DISASTER (class 1) \n",
    "#test_predictions = np.ones((len(X_test_id),1), dtype=int)\n",
    "\n",
    "#download_predictions_to_file(X_test_id, test_predictions) # download the prediction file\n"
   ]
  },
  {
   "cell_type": "code",
   "execution_count": 5,
   "metadata": {
    "colab": {
     "base_uri": "https://localhost:8080/"
    },
    "id": "6CNutG2xFE1b",
    "outputId": "32033974-2190-4ea1-9203-d63043364491"
   },
   "outputs": [
    {
     "name": "stdout",
     "output_type": "stream",
     "text": [
      "Our Deeds are the Reason of this #earthquake May ALLAH Forgive us all\n"
     ]
    }
   ],
   "source": [
    "print(X_train[0][2])"
   ]
  },
  {
   "cell_type": "code",
   "execution_count": 10,
   "metadata": {
    "colab": {
     "base_uri": "https://localhost:8080/",
     "height": 341
    },
    "id": "hd9_NWS9p1vp",
    "outputId": "699d6533-297a-48c0-fca5-559fdebb31c8"
   },
   "outputs": [
    {
     "name": "stdout",
     "output_type": "stream",
     "text": [
      "Class 0: 4342\n",
      "Class 1: 3271\n"
     ]
    },
    {
     "data": {
      "image/png": "[encoded data removed]",
      "text/plain": [
       "<Figure size 432x288 with 1 Axes>"
      ]
     },
     "metadata": {
      "needs_background": "light"
     },
     "output_type": "display_data"
    }
   ],
   "source": [
    "#Check data balance\n",
    "\"\"\"Needed to check the skewness of the data which can negatively impact training and testing if highly unbalanced\"\"\"\n",
    "from matplotlib import pyplot as plt \n",
    "print(f\"Class 0: {np.sum(Y_train == 0)}\")\n",
    "print(f\"Class 1: {np.sum(Y_train == 1)}\")\n",
    "ax = train_csv['target'].value_counts().plot(kind=\"bar\")\n",
    "ax.grid(axis=\"y\")\n",
    "ax.set_ylabel('Count')\n",
    "ax.set_xlabel('Target Label')\n",
    "plt.suptitle(\"Target Count Distribution\")\n",
    "plt.show()"
   ]
  },
  {
   "cell_type": "code",
   "execution_count": 13,
   "metadata": {
    "colab": {
     "base_uri": "https://localhost:8080/",
     "height": 295
    },
    "id": "C0Ey0nDnchXX",
    "outputId": "67e4c9de-17b9-4b2a-9106-cf6ca0a08439"
   },
   "outputs": [
    {
     "data": {
      "image/png": "[encoded data removed]",
      "text/plain": [
       "<Figure size 432x288 with 1 Axes>"
      ]
     },
     "metadata": {
      "needs_background": "light"
     },
     "output_type": "display_data"
    }
   ],
   "source": [
    "#Check for missing values\n",
    "\"\"\"Needed to determine which columns can be appropriately used as features\"\"\"\n",
    "\n",
    "missing_dict = {'keyword':train_csv['keyword'].isnull().sum(),\n",
    "                'location':train_csv['location'].isnull().sum(),\n",
    "                'text':train_csv['text'].isnull().sum(),\n",
    "                'target':train_csv['target'].isnull().sum()}\n",
    "\n",
    "features = list(missing_dict.keys())\n",
    "values = list(missing_dict.values())\n",
    "\n",
    "plt.bar(features, values, color ='blue',\n",
    "        width = 0.8)\n",
    " \n",
    "plt.xlabel(\"Feature\")\n",
    "plt.ylabel(\"Missing Value Count\")\n",
    "plt.title(\"Missing Data\")\n",
    "plt.show()\n",
    "\n",
    "#print(missing_dict)\n"
   ]
  },
  {
   "cell_type": "code",
   "execution_count": 17,
   "metadata": {
    "colab": {
     "base_uri": "https://localhost:8080/"
    },
    "id": "dHr4UtI-7lVw",
    "outputId": "019eb205-dd9d-45c6-bece-fd09cf43afc0"
   },
   "outputs": [
    {
     "name": "stderr",
     "output_type": "stream",
     "text": [
      "[nltk_data] Downloading package stopwords to\n",
      "[nltk_data]     /Users/huzaifa/nltk_data...\n",
      "[nltk_data]   Package stopwords is already up-to-date!\n",
      "[nltk_data] Downloading package punkt to /Users/huzaifa/nltk_data...\n",
      "[nltk_data]   Package punkt is already up-to-date!\n"
     ]
    },
    {
     "name": "stdout",
     "output_type": "stream",
     "text": [
      "   id keyword location                                               text  \\\n",
      "0   1    none      NaN  Our Deeds are the Reason of this #earthquake M...   \n",
      "1   4    none      NaN             Forest fire near La Ronge Sask. Canada   \n",
      "2   5    none      NaN  All residents asked to 'shelter in place' are ...   \n",
      "3   6    none      NaN  13,000 people receive #wildfires evacuation or...   \n",
      "4   7    none      NaN  Just got sent this photo from Ruby #Alaska as ...   \n",
      "\n",
      "   target                                         clean_text clean_keyword  \\\n",
      "0       1      our deed reason earthquak may allah forgiv us          none   \n",
      "1       1               forest fire near la rong sask canada          none   \n",
      "2       1  all resid ask shelter place notifi offic no ev...          none   \n",
      "3       1        peopl receiv wildfir evacu order california          none   \n",
      "4       1  just got sent photo rubi alaska smoke wildfir ...          none   \n",
      "\n",
      "                                        keyword_text  \n",
      "0  none our deed reason earthquak may allah forgi...  \n",
      "1          none forest fire near la rong sask canada  \n",
      "2  none all resid ask shelter place notifi offic ...  \n",
      "3   none peopl receiv wildfir evacu order california  \n",
      "4  none just got sent photo rubi alaska smoke wil...  \n"
     ]
    }
   ],
   "source": [
    "#Clean tweets and remove formatting\n",
    "import nltk\n",
    "nltk.download('stopwords')\n",
    "nltk.download('punkt')\n",
    "from nltk.corpus import stopwords\n",
    "from nltk.stem import SnowballStemmer\n",
    "from nltk.tokenize import word_tokenize \n",
    "import re\n",
    "from sklearn import model_selection, metrics, preprocessing, ensemble, model_selection, metrics\n",
    "\n",
    "\n",
    "\n",
    "'''\n",
    "stemming reduces extra characters from a word to its root or base of a word\n",
    "tokenization breaks a phrase into smaller sections\n",
    "vectorization maps words to real numbers\n",
    "\n",
    "'''\n",
    "\n",
    "# Clean columns\n",
    "stop_words = set(stopwords.words('english'))\n",
    "stemmer = SnowballStemmer('english')\n",
    "\n",
    "def tweet_clean(tweet_text):\n",
    "  #remove url\n",
    "  rmv_url = re.sub(r\"http\\S+\", \"\",tweet_text  ) #S+ removes all non-whotespace characters at end of https\n",
    "  #remove numbers\n",
    "  rmv_num = re.sub(r'\\d+', '',rmv_url) #d+ removes numbers in strings\n",
    "  #tockenise \n",
    "  wrd_tocken = word_tokenize(rmv_num)\n",
    "  #remove spatial character\n",
    "  rmv_spc = []\n",
    "  for wrd in wrd_tocken:\n",
    "    rmv_spc.append(\"\".join([e for e in wrd if e.isalnum()]))\n",
    "  #remove stop words and convert to lower case\n",
    "  rmv_stop_wrd = [w.lower() for w in rmv_spc if not w in stop_words]\n",
    "  #implement stemming\n",
    "  stemm_wrd = [stemmer.stem(w) for w in rmv_stop_wrd]\n",
    "\n",
    "  return \" \".join(\" \".join(stemm_wrd).split()) ##Why do this?\n",
    "\n",
    "train_csv['clean_text'] = train_csv['text'].apply(lambda x: tweet_clean(x) )\n",
    "train_csv['keyword'] = train_csv['keyword'].fillna(\"none\")\n",
    "train_csv['clean_keyword'] = train_csv['keyword'].apply(lambda x: tweet_clean(x) )\n",
    "\n",
    "# Merge'clean_keyword' and 'clean_text' columns ##Why are we mergibg this?\n",
    "train_csv['keyword_text'] = train_csv['clean_keyword'] + \" \" + train_csv[\"clean_text\"]\n",
    "print(train_csv.head())\n",
    "\n",
    "#Split Train and Test data\n",
    "# split train and test\n",
    "feature = 'keyword_text'\n",
    "label = \"target\"\n",
    "X_train, X_test,y_train, y_test = model_selection.train_test_split(train_csv[feature],\n",
    "                                                                   train_csv[label],\n",
    "                                                                   test_size=0.2,\n",
    "                                                                   random_state=123, \n",
    "                                                                   shuffle=True)\n",
    "\n",
    "\n"
   ]
  },
  {
   "cell_type": "code",
   "execution_count": 18,
   "metadata": {
    "colab": {
     "base_uri": "https://localhost:8080/"
    },
    "id": "hvwKk7Y9jQwv",
    "outputId": "8caf40ec-b796-4ce4-afe5-a810626e96c2"
   },
   "outputs": [
    {
     "name": "stdout",
     "output_type": "stream",
     "text": [
      "(6090,) (1523,) (6090,) (1523,)\n",
      "none forest fire near la rong sask canada\n",
      "none flood disast heavi rain caus flash flood street manitou colorado spring area\n",
      "(6090, 12121)\n"
     ]
    }
   ],
   "source": [
    "\n",
    "print(X_train.shape,X_test.shape ,y_train.shape, y_test.shape)\n",
    "print(X_train[1])\n",
    "print(X_test[6])\n",
    "from sklearn.feature_extraction.text import CountVectorizer\n",
    "# Vectorize text\n",
    "vectorizer = CountVectorizer()\n",
    "X_train_VCT = vectorizer.fit_transform(X_train)\n",
    "x_test_VCT = vectorizer.transform(X_test)\n",
    "print(X_train_VCT.shape)\n"
   ]
  },
  {
   "cell_type": "markdown",
   "metadata": {
    "id": "MqSnmbVfk4Uf"
   },
   "source": []
  },
  {
   "cell_type": "code",
   "execution_count": 19,
   "metadata": {
    "colab": {
     "base_uri": "https://localhost:8080/"
    },
    "id": "KBl5MgDlphUd",
    "outputId": "fb50aca7-5c03-4af4-8d48-78154f116767"
   },
   "outputs": [
    {
     "name": "stdout",
     "output_type": "stream",
     "text": [
      "Train ACC: 0.9535303776683087\n",
      "Val ACC: 0.8063033486539725\n",
      "(ROC) Train ACC: 0.9491228772138023\n",
      "(ROC) Val ACC: 0.8570262650244844\n"
     ]
    }
   ],
   "source": [
    "'''Classification model 1:\n",
    "                          Logistic Regression'''\n",
    "from sklearn.linear_model import LogisticRegression\n",
    "from sklearn.metrics import accuracy_score\n",
    "from sklearn.metrics import roc_auc_score\n",
    "\n",
    "clf_lr = LogisticRegression()\n",
    "clf_lr.fit(X_train_VCT, y_train)\n",
    "\n",
    "#estimation (y_hat)\n",
    "y_train_pred_lr = clf_lr.predict(X_train_VCT)\n",
    "y_val_pred_lr = clf_lr.predict(x_test_VCT)\n",
    "y_val_score_lr = clf_lr.predict_proba(x_test_VCT)[:,1]\n",
    "\n",
    "print(f\"Train ACC: {accuracy_score(y_train, y_train_pred_lr)}\")\n",
    "print(f\"Val ACC: {accuracy_score(y_test, y_val_pred_lr)}\")\n",
    "print(f\"(ROC) Train ACC: {roc_auc_score(y_train, y_train_pred_lr)}\")\n",
    "print(f\"(ROC) Val ACC: {roc_auc_score(y_test, y_val_score_lr)}\")"
   ]
  },
  {
   "cell_type": "code",
   "execution_count": 24,
   "metadata": {
    "colab": {
     "base_uri": "https://localhost:8080/",
     "height": 292
    },
    "id": "w49DFzVit0Op",
    "outputId": "bf5faa01-809b-4eef-df62-c430359bf501"
   },
   "outputs": [
    {
     "name": "stdout",
     "output_type": "stream",
     "text": [
      "LR. C= 0.001.\tTrain ACC: 0.594088669950739\tVal Acc: 0.5948785292186474\n",
      "LR. C= 0.01.\tTrain ACC: 0.7909688013136289\tVal Acc: 0.7550886408404465\n",
      "LR. C= 0.1.\tTrain ACC: 0.8686371100164204\tVal Acc: 0.8003939592908733\n",
      "LR. C= 1.0.\tTrain ACC: 0.9533661740558292\tVal Acc: 0.8056467498358503\n",
      "LR. C= 10.\tTrain ACC: 0.987192118226601\tVal Acc: 0.7839789888378201\n",
      "LR. C= 100.\tTrain ACC: 0.9885057471264368\tVal Acc: 0.7754432042022325\n"
     ]
    },
    {
     "name": "stderr",
     "output_type": "stream",
     "text": [
      "/usr/local/lib/python3.7/dist-packages/sklearn/linear_model/_logistic.py:818: ConvergenceWarning: lbfgs failed to converge (status=1):\n",
      "STOP: TOTAL NO. of ITERATIONS REACHED LIMIT.\n",
      "\n",
      "Increase the number of iterations (max_iter) or scale the data as shown in:\n",
      "    https://scikit-learn.org/stable/modules/preprocessing.html\n",
      "Please also refer to the documentation for alternative solver options:\n",
      "    https://scikit-learn.org/stable/modules/linear_model.html#logistic-regression\n",
      "  extra_warning_msg=_LOGISTIC_SOLVER_CONVERGENCE_MSG,\n"
     ]
    },
    {
     "data": {
      "application/vnd.google.colaboratory.intrinsic+json": {
       "type": "string"
      },
      "text/plain": [
       "'plot graph here'"
      ]
     },
     "execution_count": 24,
     "metadata": {},
     "output_type": "execute_result"
    }
   ],
   "source": [
    "'''Logistic Regression with different C parameter values\n",
    "''' ## in the report it says C=0.5 was the best, did we even try that?\n",
    "C = [0.001, 0.01, 0.1, 1., 10, 100]\n",
    "for c in C:\n",
    "    clf_lr = LogisticRegression(C = c, max_iter = 200)\n",
    "    clf_lr.fit(X_train_VCT, y_train)\n",
    "\n",
    "    #estimation (y_hat)\n",
    "    y_train_pred_lr = clf_lr.predict(X_train_VCT)\n",
    "    y_val_pred_lr = clf_lr.predict(x_test_VCT)\n",
    "    tr_acc = accuracy_score(y_train, y_train_pred_lr)\n",
    "    val_acc= accuracy_score(y_test, y_val_pred_lr)\n",
    "\n",
    "    print(f\"LR. C= {c}.\\tTrain ACC: {tr_acc}\\tVal Acc: {val_acc}\")\n",
    "\n",
    "'''plot graph here'''"
   ]
  },
  {
   "cell_type": "code",
   "execution_count": 25,
   "metadata": {
    "colab": {
     "base_uri": "https://localhost:8080/"
    },
    "id": "WNct8U06x5nB",
    "outputId": "648534f4-6f62-473e-a739-fbe2cb762c3b"
   },
   "outputs": [
    {
     "name": "stdout",
     "output_type": "stream",
     "text": [
      "{'C': 0.5, 'fit_intercept': True}\n",
      "0.7985221674876848\n"
     ]
    }
   ],
   "source": [
    "'''Logistic Regression with Grid search\n",
    "'''\n",
    "from sklearn.model_selection import GridSearchCV\n",
    "#define the parameters grid\n",
    "param_grid = {\n",
    "    'C': [0.1, 0.5, 1, 5, 10, 15, 20],\n",
    "    'fit_intercept': [True, False]\n",
    "}\n",
    "\n",
    "#target classifier\n",
    "lr = LogisticRegression(max_iter= 200)\n",
    "\n",
    "#grid-search object\n",
    "clf = GridSearchCV(estimator= lr, param_grid=param_grid, cv = 10, scoring = \"accuracy\")\n",
    "\n",
    "#fit the model\n",
    "clf.fit(X_train_VCT, y_train)\n",
    "\n",
    "#see the best parameters and performance\n",
    "print(clf.best_params_)\n",
    "print(clf.best_score_)"
   ]
  },
  {
   "cell_type": "code",
   "execution_count": 27,
   "metadata": {
    "colab": {
     "base_uri": "https://localhost:8080/",
     "height": 514
    },
    "id": "-P8pRhZCnYu4",
    "outputId": "44c87b6d-899c-4822-b3b1-35b4c4e9b85a"
   },
   "outputs": [
    {
     "name": "stdout",
     "output_type": "stream",
     "text": [
      "Accuracy:  0.8089297439264609\n",
      "ROC:  0.7954479610511662\n",
      "F1:  0.7581047381546134\n",
      "              precision    recall  f1-score   support\n",
      "\n",
      "           0       0.80      0.88      0.84       879\n",
      "           1       0.82      0.71      0.76       644\n",
      "\n",
      "    accuracy                           0.81      1523\n",
      "   macro avg       0.81      0.80      0.80      1523\n",
      "weighted avg       0.81      0.81      0.81      1523\n",
      "\n"
     ]
    },
    {
     "data": {
      "image/png": "[encoded data removed]",
      "text/plain": [
       "<Figure size 432x288 with 1 Axes>"
      ]
     },
     "metadata": {
      "needs_background": "light"
     },
     "output_type": "display_data"
    }
   ],
   "source": [
    "clf_lr = LogisticRegression(C = 0.5, max_iter = 200)\n",
    "clf_lr.fit(X_train_VCT, y_train)\n",
    "#estimation (y_hat)\n",
    "y_train_pred_lr = clf_lr.predict(X_train_VCT)\n",
    "y_val_pred_lr = clf_lr.predict(x_test_VCT)\n",
    "tr_acc = accuracy_score(y_train, y_train_pred_lr)\n",
    "val_acc= accuracy_score(y_test, y_val_pred_lr)\n",
    "\n",
    "\n",
    "print(\"Accuracy: \",metrics.accuracy_score(y_test, y_val_pred_lr))\n",
    "print(\"ROC: \",roc_auc_score(y_test, y_val_pred_lr))\n",
    "print(\"F1: \",metrics.f1_score(y_test,y_val_pred_lr))\n",
    "print(metrics.classification_report(y_test, y_val_pred_lr, target_names=[\"0\", \"1\"]))\n",
    "\n",
    "# Plot confusion matrix\n",
    "conf_matrix = metrics.confusion_matrix(y_test, y_val_pred_lr)\n",
    "\n",
    "fig, ax = plt.subplots()\n",
    "sns.heatmap(conf_matrix, cbar=False, cmap='Reds', annot=True, fmt='d')\n",
    "ax.set(xlabel=\"Predicted Value\", ylabel=\"True Value\", title=\"LR (C=0.5)Confusion Matrix\")\n",
    "ax.set_yticklabels(labels=['0', '1'], rotation=0)\n",
    "\n",
    "plt.show()\n"
   ]
  },
  {
   "cell_type": "code",
   "execution_count": 28,
   "metadata": {
    "colab": {
     "base_uri": "https://localhost:8080/",
     "height": 497
    },
    "id": "btvvQIgWvbg5",
    "outputId": "c10ea8c2-a5d4-44d1-868f-aec5013ae9a7"
   },
   "outputs": [
    {
     "data": {
      "image/png": "[encoded data removed]",
      "text/plain": [
       "<Figure size 720x576 with 1 Axes>"
      ]
     },
     "metadata": {
      "needs_background": "light"
     },
     "output_type": "display_data"
    }
   ],
   "source": [
    "'''Classification model 2:\n",
    "                          KNN'''\n",
    "from sklearn.neighbors import KNeighborsClassifier\n",
    "accuracy_values_train = []\n",
    "accuracy_values_test = []\n",
    "k_values = range(1, 120,5)\n",
    "\n",
    "for k in k_values:\n",
    "  model = KNeighborsClassifier(n_neighbors=k)\n",
    "  model.fit(X_train_VCT, y_train)\n",
    "  y_pred_train = model.predict(X_train_VCT)\n",
    "  y_pred_test = model.predict(x_test_VCT)\n",
    "  accuracy_values_train.append(accuracy_score(y_pred_train, y_train))\n",
    "  accuracy_values_test.append(accuracy_score(y_pred_test, y_test))\n",
    "\n",
    "\n",
    "fig = plt.figure(figsize=(10,8))\n",
    "plt.plot(k_values, accuracy_values_train, label=\"train\")\n",
    "plt.plot(k_values, accuracy_values_test, label=\"test\")\n",
    "plt.xlabel(\"K\")\n",
    "plt.ylabel(\"Accuracy\")\n",
    "plt.legend()\n",
    "plt.show()\n"
   ]
  },
  {
   "cell_type": "code",
   "execution_count": 35,
   "metadata": {
    "colab": {
     "base_uri": "https://localhost:8080/",
     "height": 514
    },
    "id": "kc87jpsRaSIz",
    "outputId": "72014e94-16ac-4813-cf0a-607c31e1c28e"
   },
   "outputs": [
    {
     "name": "stdout",
     "output_type": "stream",
     "text": [
      "Accuracy:  0.7406434668417596\n",
      "ROC:  0.7662743165228698\n",
      "F1:  0.6332404828226555\n",
      "              precision    recall  f1-score   support\n",
      "\n",
      "           0       0.72      0.90      0.80       879\n",
      "           1       0.79      0.53      0.63       644\n",
      "\n",
      "    accuracy                           0.74      1523\n",
      "   macro avg       0.75      0.71      0.72      1523\n",
      "weighted avg       0.75      0.74      0.73      1523\n",
      "\n"
     ]
    },
    {
     "data": {
      "image/png": "[encoded data removed]",
      "text/plain": [
       "<Figure size 432x288 with 1 Axes>"
      ]
     },
     "metadata": {
      "needs_background": "light"
     },
     "output_type": "display_data"
    }
   ],
   "source": [
    "model = KNeighborsClassifier(n_neighbors=5)\n",
    "model.fit(X_train_VCT, y_train)\n",
    "y_pred_train = model.predict(X_train_VCT)\n",
    "y_pred_test = model.predict(x_test_VCT)\n",
    "y_score = model.predict_proba(x_test_VCT)[:,1]\n",
    "\n",
    "print(\"Accuracy: \",metrics.accuracy_score(y_pred_test, y_test))\n",
    "print(\"ROC: \",roc_auc_score(y_true=y_test, y_score=y_score))\n",
    "print(\"F1: \",metrics.f1_score(y_test, y_pred_test))\n",
    "print(metrics.classification_report(y_test, y_pred_test, target_names=[\"0\", \"1\"]))\n",
    "\n",
    "# Plot confusion matrix\n",
    "conf_matrix = metrics.confusion_matrix(y_test, y_pred_test)\n",
    "\n",
    "fig, ax = plt.subplots()\n",
    "sns.heatmap(conf_matrix, cbar=False, cmap='Reds', annot=True, fmt='d')\n",
    "ax.set(xlabel=\"Predicted Value\", ylabel=\"True Value\", title=\"KNN (K=5)Confusion Matrix\")\n",
    "ax.set_yticklabels(labels=['0', '1'], rotation=0)\n",
    "\n",
    "plt.show()"
   ]
  },
  {
   "cell_type": "code",
   "execution_count": 37,
   "metadata": {
    "colab": {
     "base_uri": "https://localhost:8080/",
     "height": 532
    },
    "id": "u4FCLhfabpai",
    "outputId": "19922683-21fe-4ad4-e578-1ddaa4918e41"
   },
   "outputs": [
    {
     "name": "stdout",
     "output_type": "stream",
     "text": [
      "Accuracy:  0.7557452396585687\n",
      "ROC:  0.8368134314120365\n",
      "F1:  0.6402321083172148\n",
      "{'criterion': 'entropy', 'max_depth': 64, 'max_features': 'auto'}\n",
      "              precision    recall  f1-score   support\n",
      "\n",
      "           0       0.72      0.93      0.82       879\n",
      "           1       0.85      0.51      0.64       644\n",
      "\n",
      "    accuracy                           0.76      1523\n",
      "   macro avg       0.79      0.72      0.73      1523\n",
      "weighted avg       0.78      0.76      0.74      1523\n",
      "\n"
     ]
    },
    {
     "data": {
      "image/png": "[encoded data removed]",
      "text/plain": [
       "<Figure size 432x288 with 1 Axes>"
      ]
     },
     "metadata": {
      "needs_background": "light"
     },
     "output_type": "display_data"
    }
   ],
   "source": [
    "'''Classification model 3:\n",
    "                          Random Forest'''\n",
    "from sklearn.ensemble import RandomForestClassifier\n",
    "from sklearn.metrics import recall_score,  precision_score, roc_curve\n",
    "\n",
    "param_grid = {\n",
    "    'max_features': ['auto', 'log2', None],\n",
    "    'criterion': ['gini', 'entropy'],\n",
    "    'max_depth': [2,4,8,16,32,64]\n",
    "    }\n",
    "dtc = GridSearchCV(estimator=RandomForestClassifier(), param_grid=param_grid, scoring='roc_auc', n_jobs=-1)\n",
    "dtc.fit(X_train_VCT, y_train)\n",
    "y_pred = dtc.predict(x_test_VCT)\n",
    "y_score = dtc.predict_proba(x_test_VCT)[:,1]\n",
    "\n",
    "print(\"Accuracy: \",accuracy_score(y_true=y_test, y_pred=y_pred))\n",
    "print(\"ROC: \",roc_auc_score(y_true=y_test, y_score=y_score))\n",
    "print(\"F1: \",metrics.f1_score(y_test, y_pred))\n",
    "print(dtc.best_params_)\n",
    "print(metrics.classification_report(y_test, y_pred, target_names=[\"0\", \"1\"]))\n",
    "\n",
    "# Plot confusion matrix\n",
    "conf_matrix = metrics.confusion_matrix(y_test, y_pred)\n",
    "\n",
    "fig, ax = plt.subplots()\n",
    "sns.heatmap(conf_matrix, cbar=False, cmap='Reds', annot=True, fmt='d')\n",
    "ax.set(xlabel=\"Predicted Value\", ylabel=\"True Value\", title=\"Random Forest Confusion Matrix\")\n",
    "ax.set_yticklabels(labels=['0', '1'], rotation=0)\n",
    "\n",
    "plt.show()\n"
   ]
  },
  {
   "cell_type": "code",
   "execution_count": 21,
   "metadata": {
    "colab": {
     "base_uri": "https://localhost:8080/",
     "height": 514
    },
    "id": "43JFWB00dEu-",
    "outputId": "84f6a47c-6e58-4e96-b21b-28ee52a24225"
   },
   "outputs": [
    {
     "name": "stdout",
     "output_type": "stream",
     "text": [
      "Accuracy:  0.8023637557452397\n",
      "ROC:  0.8588034115560454\n",
      "F1:  0.7389418907198612\n",
      "              precision    recall  f1-score   support\n",
      "\n",
      "           0       0.79      0.91      0.84       879\n",
      "           1       0.84      0.66      0.74       644\n",
      "\n",
      "    accuracy                           0.80      1523\n",
      "   macro avg       0.81      0.78      0.79      1523\n",
      "weighted avg       0.81      0.80      0.80      1523\n",
      "\n"
     ]
    },
    {
     "data": {
      "image/png": "[encoded data removed]",
      "text/plain": [
       "<Figure size 432x288 with 1 Axes>"
      ]
     },
     "metadata": {
      "needs_background": "light"
     },
     "output_type": "display_data"
    }
   ],
   "source": [
    "'''Classification model 4:\n",
    "                          SVC'''\n",
    "from sklearn.svm import SVC\n",
    "svc = SVC(probability=True)  #why put probability=True?\n",
    "svc.fit(X_train_VCT, y_train)\n",
    "y_pred = svc.predict(x_test_VCT)\n",
    "y_score = svc.predict_proba(x_test_VCT)[:,1]\n",
    "print(\"Accuracy: \",accuracy_score(y_true=y_test, y_pred=y_pred))\n",
    "print(\"ROC: \",roc_auc_score(y_true=y_test, y_score=y_score))\n",
    "print(\"F1: \",metrics.f1_score(y_test, y_pred))\n",
    "print(metrics.classification_report(y_test, y_pred, target_names=[\"0\", \"1\"]))\n",
    "# Plot confusion matrix\n",
    "conf_matrix = metrics.confusion_matrix(y_test, y_pred)\n",
    "\n",
    "fig, ax = plt.subplots()\n",
    "sns.heatmap(conf_matrix, cbar=False, cmap='Reds', annot=True, fmt='d')\n",
    "ax.set(xlabel=\"Predicted Value\", ylabel=\"True Value\", title=\"SVC Confusion Matrix\")\n",
    "ax.set_yticklabels(labels=['0', '1'], rotation=0)\n",
    "\n",
    "plt.show()"
   ]
  },
  {
   "cell_type": "code",
   "execution_count": 39,
   "metadata": {
    "colab": {
     "base_uri": "https://localhost:8080/",
     "height": 514
    },
    "id": "jAEhU07WhHXm",
    "outputId": "72d8c280-686f-4269-ade1-3bf0b6f0b83b"
   },
   "outputs": [
    {
     "name": "stdout",
     "output_type": "stream",
     "text": [
      "Accuracy:  0.7984241628365069\n",
      "ROC:  0.8496694790098857\n",
      "F1:  0.7387234042553191\n",
      "              precision    recall  f1-score   support\n",
      "\n",
      "           0       0.79      0.89      0.84       879\n",
      "           1       0.82      0.67      0.74       644\n",
      "\n",
      "    accuracy                           0.80      1523\n",
      "   macro avg       0.80      0.78      0.79      1523\n",
      "weighted avg       0.80      0.80      0.79      1523\n",
      "\n"
     ]
    },
    {
     "data": {
      "image/png": "[encoded data removed]",
      "text/plain": [
       "<Figure size 432x288 with 1 Axes>"
      ]
     },
     "metadata": {
      "needs_background": "light"
     },
     "output_type": "display_data"
    }
   ],
   "source": [
    "'''Classification model 5:\n",
    "                          Gradient Boosting Classifier'''\n",
    "\n",
    "from sklearn.ensemble import GradientBoostingClassifier\n",
    "\n",
    "model = ensemble.GradientBoostingClassifier(learning_rate=0.1,                                            \n",
    "                                            n_estimators=2000,\n",
    "                                            max_depth=9,\n",
    "                                            min_samples_split=6,\n",
    "                                            min_samples_leaf=2,\n",
    "                                            max_features=8,\n",
    "                                            subsample=0.9)\n",
    "model.fit(X_train_VCT, y_train)\n",
    "y_score = model.predict_proba(x_test_VCT)[:,1]\n",
    "predicted = model.predict(x_test_VCT)\n",
    "\n",
    "accuracy = metrics.accuracy_score(predicted, y_test)\n",
    "print(\"Accuracy: \",metrics.accuracy_score(predicted, y_test))\n",
    "print(\"ROC: \",roc_auc_score(y_true=y_test, y_score=y_score))\n",
    "print(\"F1: \",metrics.f1_score(y_test, predicted))\n",
    "\n",
    "print(metrics.classification_report(y_test, predicted, target_names=[\"0\", \"1\"]))\n",
    "\n",
    "# Plot confusion matrix\n",
    "conf_matrix = metrics.confusion_matrix(y_test, predicted)\n",
    "\n",
    "fig, ax = plt.subplots()\n",
    "sns.heatmap(conf_matrix, cbar=False, cmap='Reds', annot=True, fmt='d')\n",
    "ax.set(xlabel=\"Predicted Value\", ylabel=\"True Value\", title=\"GBC Confusion Matrix\")\n",
    "ax.set_yticklabels(labels=['0', '1'], rotation=0)\n",
    "\n",
    "plt.show()"
   ]
  },
  {
   "cell_type": "code",
   "execution_count": 40,
   "metadata": {
    "colab": {
     "base_uri": "https://localhost:8080/",
     "height": 248
    },
    "id": "lIEszXbAvULH",
    "outputId": "8962ab02-71a4-4d18-a5e4-4ffeb7e5a24d"
   },
   "outputs": [
    {
     "data": {
      "image/png": "[encoded data removed]",
      "text/plain": [
       "<Figure size 432x288 with 1 Axes>"
      ]
     },
     "metadata": {
      "needs_background": "light"
     },
     "output_type": "display_data"
    }
   ],
   "source": [
    "accuracies = [0.8089297439264609,0.7406434668417596,0.762967826657912,0.8030203545633617,0.7984241628365069]\n",
    "rocs = [0.7954479610511662,0.8584907326931366,0.8374114076555091,0.8584907326931366,0.8533703954945979]\n",
    "f_1 = [0.7581047381546134,0.6332404828226555,0.6332404828226555,0.7395833333333334,0.7364806866952789]\n",
    "fig, ax = plt.subplots()\n",
    "ax.set_axis_off()\n",
    "table = ax.table(\n",
    "    cellText=np.round([accuracies,rocs,f_1],decimals=3),\n",
    "    colLabels=[\"LR\", \"KNN\", \"RFC\", \"SVC\", \"GBC\"],\n",
    "    rowLabels=['Accuracy','ROC AUC','F1'],\n",
    "    cellLoc='center',\n",
    "    loc='upper center',\n",
    "    rowColours=['lightblue']*4,\n",
    "    colColours=['lightpink']*5\n",
    ")\n",
    "table.scale(2,3)"
   ]
  }
 ],
 "metadata": {
  "colab": {
   "collapsed_sections": [],
   "name": "Copy_of_DisasterTweets.ipynb",
   "provenance": []
  },
  "kernelspec": {
   "display_name": "Python 3 (ipykernel)",
   "language": "python",
   "name": "python3"
  },
  "language_info": {
   "codemirror_mode": {
    "name": "ipython",
    "version": 3
   },
   "file_extension": ".py",
   "mimetype": "text/x-python",
   "name": "python",
   "nbconvert_exporter": "python",
   "pygments_lexer": "ipython3",
   "version": "3.9.7"
  }
 },
 "nbformat": 4,
 "nbformat_minor": 1
}
